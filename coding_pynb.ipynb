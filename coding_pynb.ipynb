{
  "nbformat": 4,
  "nbformat_minor": 0,
  "metadata": {
    "colab": {
      "provenance": [],
      "authorship_tag": "ABX9TyMCV4NKQxzoD8ZSkorzDKDf",
      "include_colab_link": true
    },
    "kernelspec": {
      "name": "python3",
      "display_name": "Python 3"
    },
    "language_info": {
      "name": "python"
    }
  },
  "cells": [
    {
      "cell_type": "markdown",
      "metadata": {
        "id": "view-in-github",
        "colab_type": "text"
      },
      "source": [
        "<a href=\"https://colab.research.google.com/github/SwatiSinha1023/Python-Full-Stack-Development/blob/main/coding_pynb.ipynb\" target=\"_parent\"><img src=\"https://colab.research.google.com/assets/colab-badge.svg\" alt=\"Open In Colab\"/></a>"
      ]
    },
    {
      "cell_type": "code",
      "source": [
        "# Taking input from the user for number of rows\n",
        "rows = int(input(\"Enter the number of rows: \"))\n",
        "\n",
        "# Outer loop for each row\n",
        "for i in range(rows, 0, -1):\n",
        "    # Inner loop for printing numbers in decreasing order\n",
        "    for j in range(i, 0, -1):\n",
        "        print(j, end=\" \")\n",
        "    print()  # Move to the next line after each row\n"
      ],
      "metadata": {
        "colab": {
          "base_uri": "https://localhost:8080/"
        },
        "id": "6qRiCjVz5fX4",
        "outputId": "d416da23-939a-42fe-8c21-87cb3ae0dae3"
      },
      "execution_count": 2,
      "outputs": [
        {
          "output_type": "stream",
          "name": "stdout",
          "text": [
            "Enter the number of rows: 6\n",
            "6 5 4 3 2 1 \n",
            "5 4 3 2 1 \n",
            "4 3 2 1 \n",
            "3 2 1 \n",
            "2 1 \n",
            "1 \n"
          ]
        }
      ]
    },
    {
      "cell_type": "code",
      "source": [
        "# Get the number of rows from the user\n",
        "rows = int(input(\"Enter the number of rows: \"))\n",
        "\n",
        "# Loop for each row\n",
        "for i in range(1, rows + 1):\n",
        "    # Print spaces before the stars\n",
        "    print(\" \" * (rows - i), end=\"\")\n",
        "    # Print stars with space in between\n",
        "    print(\" * \" * i)\n",
        "\n"
      ],
      "metadata": {
        "colab": {
          "base_uri": "https://localhost:8080/"
        },
        "id": "uO4iNQoU5o2j",
        "outputId": "51f046e3-cba7-458c-fceb-45a3092704f6"
      },
      "execution_count": 3,
      "outputs": [
        {
          "output_type": "stream",
          "name": "stdout",
          "text": [
            "Enter the number of rows: 5\n",
            "     * \n",
            "    *  * \n",
            "   *  *  * \n",
            "  *  *  *  * \n",
            " *  *  *  *  * \n"
          ]
        }
      ]
    },
    {
      "cell_type": "code",
      "source": [
        "# Get the number of rows from the user\n",
        "rows = int(input(\"Enter the number of rows: \"))\n",
        "\n",
        "# Loop to print the pattern\n",
        "for i in range(rows, 0, -1):\n",
        "    print('* ' * i)\n"
      ],
      "metadata": {
        "colab": {
          "base_uri": "https://localhost:8080/"
        },
        "id": "fstG7MvA6ZPI",
        "outputId": "68db624e-f266-4c8d-9b05-242a54a4f664"
      },
      "execution_count": 4,
      "outputs": [
        {
          "output_type": "stream",
          "name": "stdout",
          "text": [
            "Enter the number of rows: 5\n",
            "* * * * * \n",
            "* * * * \n",
            "* * * \n",
            "* * \n",
            "* \n"
          ]
        }
      ]
    },
    {
      "cell_type": "code",
      "source": [
        "# Input number of rows\n",
        "rows = int(input(\"Enter the number of rows: \"))\n",
        "\n",
        "# Generate the pattern\n",
        "for i in range(1, rows+1):\n",
        "    for j in range(1, rows+1):\n",
        "        if j < i:\n",
        "            print(i, end=\" \")\n",
        "        else:\n",
        "            print(j, end=\" \")\n",
        "    print()\n"
      ],
      "metadata": {
        "colab": {
          "base_uri": "https://localhost:8080/"
        },
        "id": "F0EewyQe66dp",
        "outputId": "ce0a82f5-fc33-49cb-b022-fe5ca061f6de"
      },
      "execution_count": 5,
      "outputs": [
        {
          "output_type": "stream",
          "name": "stdout",
          "text": [
            "Enter the number of rows: 5\n",
            "1 2 3 4 5 \n",
            "2 2 3 4 5 \n",
            "3 3 3 4 5 \n",
            "4 4 4 4 5 \n",
            "5 5 5 5 5 \n"
          ]
        }
      ]
    },
    {
      "cell_type": "code",
      "source": [
        "# Input: number of rows\n",
        "n = int(input(\"Enter the number of rows: \"))\n",
        "\n",
        "# First half of the pattern (increasing part)\n",
        "for i in range(1, n+1):\n",
        "    print(\"* \" * i)\n",
        "\n",
        "# Second half of the pattern (decreasing part)\n",
        "for i in range(n-1, 0, -1):\n",
        "    print(\"* \" * i)\n"
      ],
      "metadata": {
        "colab": {
          "base_uri": "https://localhost:8080/"
        },
        "id": "jAwN5cUw7uHb",
        "outputId": "ed99eb06-44c0-4f97-cc67-8e411daca4fc"
      },
      "execution_count": 6,
      "outputs": [
        {
          "output_type": "stream",
          "name": "stdout",
          "text": [
            "Enter the number of rows: 9\n",
            "* \n",
            "* * \n",
            "* * * \n",
            "* * * * \n",
            "* * * * * \n",
            "* * * * * * \n",
            "* * * * * * * \n",
            "* * * * * * * * \n",
            "* * * * * * * * * \n",
            "* * * * * * * * \n",
            "* * * * * * * \n",
            "* * * * * * \n",
            "* * * * * \n",
            "* * * * \n",
            "* * * \n",
            "* * \n",
            "* \n"
          ]
        }
      ]
    },
    {
      "cell_type": "code",
      "source": [
        "# Initialize starting ASCII value for 'A'\n",
        "ascii_value = 65\n",
        "\n",
        "# Loop through the rows\n",
        "for i in range(1, 6):\n",
        "    for j in range(i):\n",
        "        # Print the character corresponding to the current ASCII value\n",
        "        print(chr(ascii_value), end=\" \")\n",
        "        ascii_value += 1\n",
        "    print()  # Move to the next line after each row\n"
      ],
      "metadata": {
        "colab": {
          "base_uri": "https://localhost:8080/"
        },
        "id": "tJ3_bl7I8Fcp",
        "outputId": "37d958fd-fb5e-4522-8906-7c7b44e51570"
      },
      "execution_count": 7,
      "outputs": [
        {
          "output_type": "stream",
          "name": "stdout",
          "text": [
            "A \n",
            "B C \n",
            "D E F \n",
            "G H I J \n",
            "K L M N O \n"
          ]
        }
      ]
    }
  ]
}